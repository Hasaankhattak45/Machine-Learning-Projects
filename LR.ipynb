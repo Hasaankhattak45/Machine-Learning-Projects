{
  "nbformat": 4,
  "nbformat_minor": 0,
  "metadata": {
    "colab": {
      "name": "Untitled10.ipynb",
      "provenance": [],
      "collapsed_sections": [],
      "mount_file_id": "172IpR9ozMfFD75GlffcBBksyAhrYHIak",
      "authorship_tag": "ABX9TyMED5szU77Cr871M4HPF7j4",
      "include_colab_link": true
    },
    "kernelspec": {
      "name": "python3",
      "display_name": "Python 3"
    },
    "language_info": {
      "name": "python"
    }
  },
  "cells": [
    {
      "cell_type": "markdown",
      "metadata": {
        "id": "view-in-github",
        "colab_type": "text"
      },
      "source": [
        "<a href=\"https://colab.research.google.com/github/Hasaankhattak45/Machine-Learning-Projects/blob/main/LR.ipynb\" target=\"_parent\"><img src=\"https://colab.research.google.com/assets/colab-badge.svg\" alt=\"Open In Colab\"/></a>"
      ]
    },
    {
      "cell_type": "markdown",
      "metadata": {
        "id": "do_rcjygPIHm"
      },
      "source": [
        "#**Examining The Data**"
      ]
    },
    {
      "cell_type": "markdown",
      "metadata": {
        "id": "BbeDE5ibPNA7"
      },
      "source": [
        "In the first part of exercise 1, we're tasked with implementing simple linear regression to predict profits for a food truck. Suppose you are the CEO of a restaurant franchise and are considering different cities for opening a new outlet. The chain already has trucks in various cities and you have data for profits and populations from the cities. You'd like to figure out what the expected profit of a new food truck might be given only the population of the city that it would be placed in.\n",
        "\n",
        "Let's start by examining the data which is in a file called \"ex1data1.txt\" in the \"data\" directory of my repository above. First we need to import a few libraries."
      ]
    },
    {
      "cell_type": "code",
      "metadata": {
        "id": "39GphRgaOD-A"
      },
      "source": [
        "import os\n",
        "import numpy as np\n",
        "import pandas as pd\n",
        "import matplotlib.pyplot as plt\n",
        "%matplotlib inline"
      ],
      "execution_count": 1,
      "outputs": []
    },
    {
      "cell_type": "code",
      "metadata": {
        "id": "bUxsldNSSTbi"
      },
      "source": [
        "from google.colab import drive\n",
        "drive.mount('/content/drive')"
      ],
      "execution_count": null,
      "outputs": []
    },
    {
      "cell_type": "markdown",
      "metadata": {
        "id": "-RKH1PtzPsYa"
      },
      "source": [
        "Now let's get things rolling. We can use pandas to load the data into a data frame and display the first few rows using the \"head\" function."
      ]
    },
    {
      "cell_type": "code",
      "metadata": {
        "colab": {
          "base_uri": "https://localhost:8080/",
          "height": 238
        },
        "id": "Q18BO1BBP2UN",
        "outputId": "f150d6d0-89f4-4f4b-d9c5-bc2c5ff0b98b"
      },
      "source": [
        "\n",
        "data = pd.read_csv(\"/content/drive/MyDrive/Lr-dataset.csv\")\n",
        "data"
      ],
      "execution_count": 3,
      "outputs": [
        {
          "output_type": "execute_result",
          "data": {
            "text/html": [
              "<div>\n",
              "<style scoped>\n",
              "    .dataframe tbody tr th:only-of-type {\n",
              "        vertical-align: middle;\n",
              "    }\n",
              "\n",
              "    .dataframe tbody tr th {\n",
              "        vertical-align: top;\n",
              "    }\n",
              "\n",
              "    .dataframe thead th {\n",
              "        text-align: right;\n",
              "    }\n",
              "</style>\n",
              "<table border=\"1\" class=\"dataframe\">\n",
              "  <thead>\n",
              "    <tr style=\"text-align: right;\">\n",
              "      <th></th>\n",
              "      <th>X</th>\n",
              "      <th>Y</th>\n",
              "    </tr>\n",
              "  </thead>\n",
              "  <tbody>\n",
              "    <tr>\n",
              "      <th>0</th>\n",
              "      <td>1</td>\n",
              "      <td>1</td>\n",
              "    </tr>\n",
              "    <tr>\n",
              "      <th>1</th>\n",
              "      <td>2</td>\n",
              "      <td>3</td>\n",
              "    </tr>\n",
              "    <tr>\n",
              "      <th>2</th>\n",
              "      <td>3</td>\n",
              "      <td>3</td>\n",
              "    </tr>\n",
              "    <tr>\n",
              "      <th>3</th>\n",
              "      <td>4</td>\n",
              "      <td>2</td>\n",
              "    </tr>\n",
              "    <tr>\n",
              "      <th>4</th>\n",
              "      <td>5</td>\n",
              "      <td>5</td>\n",
              "    </tr>\n",
              "    <tr>\n",
              "      <th>5</th>\n",
              "      <td>6</td>\n",
              "      <td>5</td>\n",
              "    </tr>\n",
              "  </tbody>\n",
              "</table>\n",
              "</div>"
            ],
            "text/plain": [
              "   X  Y\n",
              "0  1  1\n",
              "1  2  3\n",
              "2  3  3\n",
              "3  4  2\n",
              "4  5  5\n",
              "5  6  5"
            ]
          },
          "metadata": {},
          "execution_count": 3
        }
      ]
    },
    {
      "cell_type": "markdown",
      "metadata": {
        "id": "AA65wwk_P4Tv"
      },
      "source": [
        "Another useful function that pandas provides out-of-the-box is the \"describe\" function, which calculates some basic statistics on a data set. This is helpful to get a \"feel\" for the data during the exploratory analysis stage of a project."
      ]
    },
    {
      "cell_type": "code",
      "metadata": {
        "colab": {
          "base_uri": "https://localhost:8080/",
          "height": 300
        },
        "id": "tws4qziYP6p4",
        "outputId": "45c70e17-a207-4871-c618-599160afc0b5"
      },
      "source": [
        "data.describe()\n"
      ],
      "execution_count": 4,
      "outputs": [
        {
          "output_type": "execute_result",
          "data": {
            "text/html": [
              "<div>\n",
              "<style scoped>\n",
              "    .dataframe tbody tr th:only-of-type {\n",
              "        vertical-align: middle;\n",
              "    }\n",
              "\n",
              "    .dataframe tbody tr th {\n",
              "        vertical-align: top;\n",
              "    }\n",
              "\n",
              "    .dataframe thead th {\n",
              "        text-align: right;\n",
              "    }\n",
              "</style>\n",
              "<table border=\"1\" class=\"dataframe\">\n",
              "  <thead>\n",
              "    <tr style=\"text-align: right;\">\n",
              "      <th></th>\n",
              "      <th>X</th>\n",
              "      <th>Y</th>\n",
              "    </tr>\n",
              "  </thead>\n",
              "  <tbody>\n",
              "    <tr>\n",
              "      <th>count</th>\n",
              "      <td>6.000000</td>\n",
              "      <td>6.000000</td>\n",
              "    </tr>\n",
              "    <tr>\n",
              "      <th>mean</th>\n",
              "      <td>3.500000</td>\n",
              "      <td>3.166667</td>\n",
              "    </tr>\n",
              "    <tr>\n",
              "      <th>std</th>\n",
              "      <td>1.870829</td>\n",
              "      <td>1.602082</td>\n",
              "    </tr>\n",
              "    <tr>\n",
              "      <th>min</th>\n",
              "      <td>1.000000</td>\n",
              "      <td>1.000000</td>\n",
              "    </tr>\n",
              "    <tr>\n",
              "      <th>25%</th>\n",
              "      <td>2.250000</td>\n",
              "      <td>2.250000</td>\n",
              "    </tr>\n",
              "    <tr>\n",
              "      <th>50%</th>\n",
              "      <td>3.500000</td>\n",
              "      <td>3.000000</td>\n",
              "    </tr>\n",
              "    <tr>\n",
              "      <th>75%</th>\n",
              "      <td>4.750000</td>\n",
              "      <td>4.500000</td>\n",
              "    </tr>\n",
              "    <tr>\n",
              "      <th>max</th>\n",
              "      <td>6.000000</td>\n",
              "      <td>5.000000</td>\n",
              "    </tr>\n",
              "  </tbody>\n",
              "</table>\n",
              "</div>"
            ],
            "text/plain": [
              "              X         Y\n",
              "count  6.000000  6.000000\n",
              "mean   3.500000  3.166667\n",
              "std    1.870829  1.602082\n",
              "min    1.000000  1.000000\n",
              "25%    2.250000  2.250000\n",
              "50%    3.500000  3.000000\n",
              "75%    4.750000  4.500000\n",
              "max    6.000000  5.000000"
            ]
          },
          "metadata": {},
          "execution_count": 4
        }
      ]
    },
    {
      "cell_type": "markdown",
      "metadata": {
        "id": "sPOErYmIP_6U"
      },
      "source": [
        "Examining stats about your data can be helpful, but sometimes you need to find ways to visualize it too. Fortunately this data set only has one dependent variable, so we can toss it in a scatter plot to get a better idea of what it looks like. We can use the \"plot\" function provided by pandas for this, which is really just a wrapper for matplotlib."
      ]
    },
    {
      "cell_type": "code",
      "metadata": {
        "colab": {
          "base_uri": "https://localhost:8080/",
          "height": 514
        },
        "id": "RyY72mkkP9Xk",
        "outputId": "03af0828-6377-4d92-e1af-25f981f42c1a"
      },
      "source": [
        "data.plot(kind='scatter', x='X', y='Y', figsize=(12,8))"
      ],
      "execution_count": 5,
      "outputs": [
        {
          "output_type": "execute_result",
          "data": {
            "text/plain": [
              "<matplotlib.axes._subplots.AxesSubplot at 0x7f295649e410>"
            ]
          },
          "metadata": {},
          "execution_count": 5
        },
        {
          "output_type": "display_data",
          "data": {
            "image/png": "[encoded data removed]",
            "text/plain": [
              "<Figure size 864x576 with 1 Axes>"
            ]
          },
          "metadata": {
            "needs_background": "light"
          }
        }
      ]
    },
    {
      "cell_type": "markdown",
      "metadata": {
        "id": "VSSOuIxcQFVM"
      },
      "source": [
        "It really helps to actually look at what's going on, doesn't it? We can clearly see that there's a cluster of values around cities with smaller populations, and a somewhat linear trend of increasing profit as the size of the city increases. Now let's get to the fun part - implementing a linear regression algorithm in python from scratch!"
      ]
    },
    {
      "cell_type": "markdown",
      "metadata": {
        "id": "meWZZBP1QICT"
      },
      "source": [
        "#**Implementing Simple Linear Regression**"
      ]
    },
    {
      "cell_type": "markdown",
      "metadata": {
        "id": "S4BcNYFLQN_h"
      },
      "source": [
        "If you're not familiar with linear regression, it's an approach to modeling the relationship between a dependent variable and one or more independent variables (if there's one independent variable then it's called simple linear regression, and if there's more than one independent variable then it's called multiple linear regression). There are lots of different types and variances of linear regression that are outside the scope of this discussion so I won't go into that here, but to put it simply - we're trying to create a linear model of the data X, using some number of parameters theta, that describes the variance of the data such that given a new data point that's not in X, we could accurately predict what the outcome y would be without actually knowing what y is.\n",
        "\n",
        "In this implementation we're going to use an optimization technique called gradient descent to find the parameters theta. If you're familiar with linear algebra, you may be aware that there's another way to find the optimal parameters for a linear model called the \"normal equation\" which basically solves the problem at once using a series of matrix calculations. However, the issue with this approach is that it doesn't scale very well for large data sets. In contrast, we can use variants of gradient descent and other optimization methods to scale to data sets of unlimited size, so for machine learning problems this approach is more practical.\n",
        "\n",
        "Okay, that's enough theory. Let's write some code. The first thing we need is a cost function. The cost function evaluates the quality of our model by calculating the error between our model's prediction for a data point, using the model parameters, and the actual data point. For example, if the population for a given city is 4 and we predicted that it was 7, our error is (7-4)^2 = 3^2 = 9 (assuming an L2 or \"least squares\" loss function). We do this for each data point in X and sum the result to get the cost. Here's the function:"
      ]
    },
    {
      "cell_type": "code",
      "metadata": {
        "id": "gtga-FaOQRKp"
      },
      "source": [
        "def computeCost(X, y, theta):\n",
        "    inner = np.power(((X * theta.T) - y), 2)\n",
        "    return np.sum(inner) / (2 * len(X))"
      ],
      "execution_count": 6,
      "outputs": []
    },
    {
      "cell_type": "markdown",
      "metadata": {
        "id": "vnWOckSOQTVa"
      },
      "source": [
        "Notice that there are no loops. We're taking advantage of numpy's linear algrebra capabilities to compute the result as a series of matrix operations. This is far more computationally efficient than an unoptimizted \"for\" loop.\n",
        "\n",
        "In order to make this cost function work seamlessly with the pandas data frame we created above, we need to do some manipulating. First, we need to insert a column of 1s at the beginning of the data frame in order to make the matrix operations work correctly (I won't go into detail on why this is needed, but it's in the exercise text if you're interested - basically it accounts for the intercept term in the linear equation). Second, we need to separate our data into independent variables X and our dependent variable y."
      ]
    },
    {
      "cell_type": "code",
      "metadata": {
        "id": "kcZUpsrgQVt2"
      },
      "source": [
        "# append a ones column to the front of the data set\n",
        "data.insert(0, 'Ones', 1)\n",
        "\n",
        "# set X (training data) and y (target variable)\n",
        "cols = data.shape[1]\n",
        "X = data.iloc[:,0:cols-1]\n",
        "y = data.iloc[:,cols-1:cols]"
      ],
      "execution_count": 7,
      "outputs": []
    },
    {
      "cell_type": "markdown",
      "metadata": {
        "id": "vPw3B6ylQZKo"
      },
      "source": [
        "Finally, we're going to convert our data frames to numpy matrices and instantiate a parameter matirx."
      ]
    },
    {
      "cell_type": "code",
      "metadata": {
        "id": "6XT2ag2PQX4y"
      },
      "source": [
        "# convert from data frames to numpy matrices\n",
        "X = np.matrix(X.values)\n",
        "y = np.matrix(y.values)\n",
        "theta = np.matrix(np.array([0,0]))"
      ],
      "execution_count": 8,
      "outputs": []
    },
    {
      "cell_type": "markdown",
      "metadata": {
        "id": "tpDUOmQ7Qdjb"
      },
      "source": [
        "One useful trick to remember when debugging matrix operations is to look at the shape of the matrices you're dealing with. It's also helpful to remember when walking through the steps in your head that matrix multiplications look like (i x j) * (j x k) = (i x k), where i, j, and k are the shapes of the relative dimensions of the matrix."
      ]
    },
    {
      "cell_type": "code",
      "metadata": {
        "colab": {
          "base_uri": "https://localhost:8080/"
        },
        "id": "zjPInj8VQfaC",
        "outputId": "bbf69f22-b86c-43a3-e1b6-ebd35942f7d5"
      },
      "source": [
        "X.shape, theta.shape, y.shape"
      ],
      "execution_count": 9,
      "outputs": [
        {
          "output_type": "execute_result",
          "data": {
            "text/plain": [
              "((6, 2), (1, 2), (6, 1))"
            ]
          },
          "metadata": {},
          "execution_count": 9
        }
      ]
    },
    {
      "cell_type": "markdown",
      "metadata": {
        "id": "kIMm-Xj0Qi8R"
      },
      "source": [
        "Okay, so now we can try out our cost function. Remember the parameters were initialized to 0 so the solution isn't optimal yet, but we can see if it works."
      ]
    },
    {
      "cell_type": "code",
      "metadata": {
        "colab": {
          "base_uri": "https://localhost:8080/"
        },
        "id": "3fMcgw3cQlUr",
        "outputId": "de861c64-06a9-4cd2-f70a-a25a517c1b57"
      },
      "source": [
        "computeCost(X, y, theta)"
      ],
      "execution_count": 10,
      "outputs": [
        {
          "output_type": "execute_result",
          "data": {
            "text/plain": [
              "6.083333333333333"
            ]
          },
          "metadata": {},
          "execution_count": 10
        }
      ]
    },
    {
      "cell_type": "markdown",
      "metadata": {
        "id": "eDEfo_j4QnWO"
      },
      "source": [
        "So far so good. Now we need to define a function to perform gradient descent on the parameters theta using the update rules defined in the exercise text. Here's the function for gradient descent:"
      ]
    },
    {
      "cell_type": "code",
      "metadata": {
        "id": "rfJjjuXsQqFw"
      },
      "source": [
        "def gradientDescent(X, y, theta, alpha, iters):\n",
        "    temp = np.matrix(np.zeros(theta.shape))\n",
        "    parameters = int(theta.ravel().shape[1])\n",
        "    cost = np.zeros(iters)\n",
        "    \n",
        "    for i in range(iters):\n",
        "        error = (X * theta.T) - y\n",
        "        \n",
        "        for j in range(parameters):\n",
        "            term = np.multiply(error, X[:,j])\n",
        "            temp[0,j] = theta[0,j] - ((alpha / len(X)) * np.sum(term))\n",
        "            \n",
        "        theta = temp\n",
        "        cost[i] = computeCost(X, y, theta)\n",
        "        \n",
        "    return theta, cost"
      ],
      "execution_count": 11,
      "outputs": []
    },
    {
      "cell_type": "markdown",
      "metadata": {
        "id": "SWM8Rm2WQsre"
      },
      "source": [
        "The idea with gradient descent is that for each iteration, we compute the gradient of the error term in order to figure out the appropriate direction to move our parameter vector. In other words, we're calculating the changes to make to our parameters in order to reduce the error, thus bringing our solution closer to the optimal solution (i.e best fit).\n",
        "\n",
        "This is a fairly complex topic and I could easily devote a whole blog post just to discussing gradient descent. If you're interested in learning more, I would recommend starting with this article and branching out from there.\n",
        "\n",
        "Once again we're relying on numpy and linear algebra for our solution. You may notice that my implementation is not 100% optimal. In particular, there's a way to get rid of that inner loop and update all of the parameters at once. I'll leave it up to the reader to figure it out for now (I'll cover it in a later post).\n",
        "\n",
        "Now that we've got a way to evaluate solutions, and a way to find a good solution, it's time to apply this to our data set."
      ]
    },
    {
      "cell_type": "code",
      "metadata": {
        "colab": {
          "base_uri": "https://localhost:8080/"
        },
        "id": "ZHfdexdLQvJV",
        "outputId": "e668db55-ee9c-4f45-ffb6-dc6e0f157712"
      },
      "source": [
        "# initialize variables for learning rate and iterations\n",
        "alpha = 0.01\n",
        "iters = 1000\n",
        "\n",
        "# perform gradient descent to \"fit\" the model parameters\n",
        "g, cost = gradientDescent(X, y, theta, alpha, iters)\n",
        "g"
      ],
      "execution_count": 12,
      "outputs": [
        {
          "output_type": "execute_result",
          "data": {
            "text/plain": [
              "matrix([[0.59036098, 0.73210915]])"
            ]
          },
          "metadata": {},
          "execution_count": 12
        }
      ]
    },
    {
      "cell_type": "markdown",
      "metadata": {
        "id": "RZQK1Z_ZQxRu"
      },
      "source": [
        "Note that we've initialized a few new variables here. If you look closely at the gradient descent function, it has parameters called alpha and iters. Alpha is the learning rate - it's a factor in the update rule for the parameters that helps determine how quickly the algorithm will converge to the optimal solution. Iters is just the number of iterations. There is no hard and fast rule for how to initialize these parameters and typically some trial-and-error is involved.\n",
        "\n",
        "We now have a parameter vector descibing what we believe is the optimal linear model for our data set. One quick way to evaluate just how good our regression model is might be to look at the total error of our new solution on the data set:"
      ]
    },
    {
      "cell_type": "code",
      "metadata": {
        "colab": {
          "base_uri": "https://localhost:8080/"
        },
        "id": "tDwYcfEFQzgA",
        "outputId": "5536b700-642b-4d43-bfac-d02b9c102cdf"
      },
      "source": [
        "computeCost(X, y, g)"
      ],
      "execution_count": 13,
      "outputs": [
        {
          "output_type": "execute_result",
          "data": {
            "text/plain": [
              "0.3259570353796076"
            ]
          },
          "metadata": {},
          "execution_count": 13
        }
      ]
    },
    {
      "cell_type": "markdown",
      "metadata": {
        "id": "USqGMd5hQ1Vs"
      },
      "source": [
        "That's certainly a lot better than 32, but it's not a very intuitive way to look at it. Fortunately we have some other techniques at our disposal."
      ]
    },
    {
      "cell_type": "markdown",
      "metadata": {
        "id": "9tPuJgEcQ4uj"
      },
      "source": [
        "#**Viewing The Results**"
      ]
    },
    {
      "cell_type": "markdown",
      "metadata": {
        "id": "jFEtE-CAQ8Ht"
      },
      "source": [
        "We're now going to use matplotlib to visualize our solution. Remember the scatter plot from before? Let's overlay a line representing our model on top of a scatter plot of the data to see how well it fits. We can use numpy's \"linspace\" function to create an evenly-spaced series of points within the range of our data, and then \"evaluate\" those points using our model to see what the expected profit would be. We can then turn it into a line graph and plot it."
      ]
    },
    {
      "cell_type": "code",
      "metadata": {
        "colab": {
          "base_uri": "https://localhost:8080/",
          "height": 530
        },
        "id": "fPBhaGWYQ-tE",
        "outputId": "d64599c4-9dcd-4189-c70c-b8c81ab83457"
      },
      "source": [
        "x = np.linspace(data.X.min(), data.X.max(), 100)\n",
        "f = g[0, 0] + (g[0, 1] * x)\n",
        "\n",
        "fig, ax = plt.subplots(figsize=(12,8))\n",
        "ax.plot(x, f, 'r', label='Prediction')\n",
        "ax.scatter(data.X, data.Y, label='Traning Data')\n",
        "ax.legend(loc=2)\n",
        "ax.set_xlabel('X')\n",
        "ax.set_ylabel('Y')\n",
        "ax.set_title('Predicted')"
      ],
      "execution_count": 14,
      "outputs": [
        {
          "output_type": "execute_result",
          "data": {
            "text/plain": [
              "Text(0.5, 1.0, 'Predicted')"
            ]
          },
          "metadata": {},
          "execution_count": 14
        },
        {
          "output_type": "display_data",
          "data": {
            "image/png": "[encoded data removed]",
            "text/plain": [
              "<Figure size 864x576 with 1 Axes>"
            ]
          },
          "metadata": {
            "needs_background": "light"
          }
        }
      ]
    },
    {
      "cell_type": "markdown",
      "metadata": {
        "id": "gRE9LmulRBZl"
      },
      "source": [
        "Not bad! Our solution looks like and optimal linear model of the data set. Since the gradient decent function also outputs a vector with the cost at each training iteration, we can plot that as well."
      ]
    },
    {
      "cell_type": "code",
      "metadata": {
        "colab": {
          "base_uri": "https://localhost:8080/",
          "height": 530
        },
        "id": "CHARYQgHRDnj",
        "outputId": "b84ca911-2a72-4134-d23a-7433b6fbc789"
      },
      "source": [
        "fig, ax = plt.subplots(figsize=(12,8))\n",
        "ax.plot(np.arange(iters), cost, 'r')\n",
        "ax.set_xlabel('Iterations')\n",
        "ax.set_ylabel('Cost')\n",
        "ax.set_title('Error vs. Training Epoch')"
      ],
      "execution_count": 15,
      "outputs": [
        {
          "output_type": "execute_result",
          "data": {
            "text/plain": [
              "Text(0.5, 1.0, 'Error vs. Training Epoch')"
            ]
          },
          "metadata": {},
          "execution_count": 15
        },
        {
          "output_type": "display_data",
          "data": {
            "image/png": "[encoded data removed]",
            "text/plain": [
              "<Figure size 864x576 with 1 Axes>"
            ]
          },
          "metadata": {
            "needs_background": "light"
          }
        }
      ]
    },
    {
      "cell_type": "markdown",
      "metadata": {
        "id": "EX_bVuxWRGRf"
      },
      "source": [
        "Notice that the cost always decreases - this is an example of what's called a convex optimization problem. If you were to plot the entire solution space for the problem (i.e. plot the cost as a function of the model parameters for every possible value of the parameters) you would see that it looks like a \"bowl\" shape with a \"basin\" representing the optimal solution.\n",
        "\n",
        "That's all for now! In part 2 we'll finish off the first exercise by extending this example to more than 1 variable. I'll also show how the above solution can be reached by using a popular machine learning library called scikit-learn."
      ]
    },
    {
      "cell_type": "markdown",
      "metadata": {
        "id": "durnKGx24NRy"
      },
      "source": [
        "#**Second method**"
      ]
    },
    {
      "cell_type": "markdown",
      "metadata": {
        "id": "25Enz1ml6dZh"
      },
      "source": [
        "reference:https://www.analyticsvidhya.com/blog/2021/06/linear-regression-in-machine-learning/"
      ]
    },
    {
      "cell_type": "code",
      "metadata": {
        "id": "TH4AhXbY4Rcf"
      },
      "source": [
        "import matplotlib.pyplot as plt\n",
        "import pandas as pd\n",
        "import numpy as np"
      ],
      "execution_count": 16,
      "outputs": []
    },
    {
      "cell_type": "code",
      "metadata": {
        "id": "fmGUQIt04aff"
      },
      "source": [
        "x= np.array([1,2,3,4,5,6])\n",
        "y = np.array([1,3,3,2,5,5])\n",
        "n = np.size(x)"
      ],
      "execution_count": 17,
      "outputs": []
    },
    {
      "cell_type": "code",
      "metadata": {
        "id": "_Y9ojcL04kP6",
        "outputId": "48780e26-cfa6-4819-b1ff-505a4681a00d",
        "colab": {
          "base_uri": "https://localhost:8080/",
          "height": 279
        }
      },
      "source": [
        "plt.scatter(x,y, color = 'red')\n",
        "plt.xlabel(\"Experience\")\n",
        "plt.ylabel(\"Salary\")\n",
        "plt.show()"
      ],
      "execution_count": 21,
      "outputs": [
        {
          "output_type": "display_data",
          "data": {
            "image/png": "[encoded data removed]",
            "text/plain": [
              "<Figure size 432x288 with 1 Axes>"
            ]
          },
          "metadata": {
            "needs_background": "light"
          }
        }
      ]
    },
    {
      "cell_type": "code",
      "metadata": {
        "id": "ZnAhWD2G5aXg",
        "outputId": "f28df464-0714-4ffe-c568-c55ac3713a63",
        "colab": {
          "base_uri": "https://localhost:8080/"
        }
      },
      "source": [
        "#initialize the parameters\n",
        "a0 = 0                  #intercept\n",
        "a1 = 0                  #Slop\n",
        "lr = 0.001              #Learning rate\n",
        "iterations = 10         # Number of iterations\n",
        "error = []              # Error array to calculate cost for each iterations.\n",
        "for itr in range(iterations):\n",
        "    error_cost = 0\n",
        "    cost_a0 = 0\n",
        "    cost_a1 = 0\n",
        "    for i in range(len(x)):\n",
        "        y_pred = a0+a1*x[i]   # predict value for given x\n",
        "        error_cost = error_cost +(y[i]-y_pred)**2\n",
        "        for j in range(len(x)):\n",
        "            partial_wrt_a0 = -2 *(y[j] - (a0 + a1*x[j]))                #partial derivative w.r.t a0\n",
        "            partial_wrt_a1 = (-2*x[j])*(y[j]-(a0 + a1*y[j]))   #partial derivative w.r.t a1\n",
        "            cost_a0 = cost_a0 + partial_wrt_a0      #calculate cost for each number and add\n",
        "            cost_a1 = cost_a1 + partial_wrt_a1      #calculate cost for each number and add\n",
        "        a0 = a0 - lr * cost_a0    #update a0\n",
        "        a1 = a1 - lr * cost_a1    #update a1\n",
        "        print(itr,a0,a1)          #Check iteration and updated a0 and a1\n",
        "    error.append(error_cost)      #Append the data in array"
      ],
      "execution_count": 22,
      "outputs": [
        {
          "output_type": "stream",
          "name": "stdout",
          "text": [
            "0 0.038 0.158\n",
            "0 0.106908 0.44744000000000006\n",
            "0 0.19374062400000003 0.8196943440000001\n",
            "0 0.2818211980640001 1.21229987544\n",
            "0 0.3536033229827521 1.5595255362417921\n",
            "0 0.39364213550355587 1.8034948227521055\n",
            "1 0.35117164732192474 1.6600096710661234\n",
            "1 0.27276669318765334 1.3974937821641729\n",
            "1 0.17039379988423486 1.0607176745664018\n",
            "1 0.05942603865041668 0.7071916347920011\n",
            "1 -0.04395688370847055 0.3974334230971468\n",
            "1 -0.12550452723293629 0.18472691966869903\n",
            "2 -0.09375700353222641 0.3188112565048279\n",
            "2 -0.03627446856233259 0.5644612089615475\n",
            "2 0.035935989253924217 0.8804498180819605\n",
            "2 0.10873632283969158 1.213818044396759\n",
            "2 0.16725146268671875 1.5088360941376027\n",
            "2 0.198388469027726 1.7164334795718628\n",
            "3 0.16191760125737506 1.5949046741003439\n",
            "3 0.09451772595972116 1.3725803908681609\n",
            "3 0.006335261534087866 1.0874186613885002\n",
            "3 -0.08959480980827149 0.7881787024250249\n",
            "3 -0.17955324893478264 0.526169490490343\n",
            "3 -0.25145616767467077 0.34656673551344785\n",
            "4 -0.22499449655413953 0.4603703503446593\n",
            "4 -0.1771684461894343 0.6688852186766884\n",
            "4 -0.11730955365487679 0.9371572971977571\n",
            "4 -0.05740355295876654 1.220285524015085\n",
            "4 -0.01006070163578466 1.4710195872622975\n",
            "4 0.013620055441810129 1.6477551051907702\n",
            "5 -0.017749099641503945 1.5448377562420725\n",
            "5 -0.07578845129128702 1.3565815039920706\n",
            "5 -0.1518947646932416 1.1151684890655555\n",
            "5 -0.23501541745963062 0.8619384329837988\n",
            "5 -0.31351729940182366 0.6403927520239063\n",
            "5 -0.37715346933619887 0.4888327428191132\n",
            "6 -0.35515860290256723 0.5854376151658137\n",
            "6 -0.31549021307106895 0.7624600056382235\n",
            "6 -0.26605926091952325 0.9902643041687788\n",
            "6 -0.21702669841203198 1.230781331599287\n",
            "6 -0.17908263145076636 1.4439500299704133\n",
            "6 -0.16163547417084892 1.5944960941271464\n",
            "7 -0.1886646844341389 1.507354401170233\n",
            "7 -0.23873880333336897 1.3479746295746564\n",
            "7 -0.3045629910347342 1.1436418962462858\n",
            "7 -0.37676538248602665 0.9294053889344608\n",
            "7 -0.44548161568273414 0.7421469762354042\n",
            "7 -0.5020222424931358 0.6143395691498286\n",
            "8 -0.48380023748751094 0.6963588514088673\n",
            "8 -0.4510197013912084 0.8466730451197806\n",
            "8 -0.41038719677324215 1.0401557251601992\n",
            "8 -0.37051658625072537 1.2445300628897824\n",
            "8 -0.3404700393345707 1.4258303473053107\n",
            "8 -0.32822272653322426 1.5541491784986516\n",
            "9 -0.35155831931176895 1.4803789628102602\n",
            "9 -0.3948511286966033 1.3454743204089419\n",
            "9 -0.45191564599425404 1.172568482788268\n",
            "9 -0.5148050518170809 0.9913772820188065\n",
            "9 -0.5751546428628928 0.8331702828666909\n",
            "9 -0.6255955300747509 0.7254788740218796\n"
          ]
        }
      ]
    },
    {
      "cell_type": "code",
      "metadata": {
        "id": "3IT8-hiq6GYZ",
        "outputId": "65063e26-26f5-4f6c-efe6-6e42a105d442",
        "colab": {
          "base_uri": "https://localhost:8080/"
        }
      },
      "source": [
        "print(a0)\n",
        "print(a1)"
      ],
      "execution_count": 23,
      "outputs": [
        {
          "output_type": "stream",
          "name": "stdout",
          "text": [
            "-0.6255955300747509\n",
            "0.7254788740218796\n"
          ]
        }
      ]
    },
    {
      "cell_type": "code",
      "metadata": {
        "id": "QR2_Tx7k6L66",
        "outputId": "07e5a1da-2148-40ca-bd1f-5eaec20c758e",
        "colab": {
          "base_uri": "https://localhost:8080/",
          "height": 367
        }
      },
      "source": [
        "plt.figure(figsize=(10,5))\n",
        "plt.plot(np.arange(1,len(error)+1),error,color='red',linewidth = 5)\n",
        "plt.title(\"Iteration vr error\")\n",
        "plt.xlabel(\"iterations\")\n",
        "plt.ylabel(\"Error\")"
      ],
      "execution_count": 24,
      "outputs": [
        {
          "output_type": "execute_result",
          "data": {
            "text/plain": [
              "Text(0, 0.5, 'Error')"
            ]
          },
          "metadata": {},
          "execution_count": 24
        },
        {
          "output_type": "display_data",
          "data": {
            "image/png": "[encoded data removed]",
            "text/plain": [
              "<Figure size 720x360 with 1 Axes>"
            ]
          },
          "metadata": {
            "needs_background": "light"
          }
        }
      ]
    }
  ]
}